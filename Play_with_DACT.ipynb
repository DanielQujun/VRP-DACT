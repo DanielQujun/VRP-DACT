{
 "cells": [
  {
   "cell_type": "markdown",
   "id": "473956ec",
   "metadata": {},
   "source": [
    "# Learning to Iteratively Solve Routing Problems with DACT\n",
    "\n",
    "Thank you for your interest in our work!<br> \n",
    "\n",
    "In this notebook, I will provide some demos on how to run and play with our DACT framework.<br> \n",
    "Hope this helps with your project :)\n",
    "\n",
    "For any queries and potential collaboration, please email me at: yiningma@u.nus.edu<br> \n",
    "The code is free to use for personal and academic usage. For other purposes, please contact me.\n",
    "\n",
    "The code is based on the following paper:\n",
    "\n",
    "Yining Ma, Jingwen Li, Zhiguang Cao, Wen Song, Le Zhang, Zhenghua Chen, Jing Tang, “Learning to iteratively solve routing problems with dual-aspect collaborative transformer,” in Advances in Neural Information Processing Systems, vol. 34, 2021."
   ]
  },
  {
   "cell_type": "code",
   "execution_count": 1,
   "id": "ed479646",
   "metadata": {},
   "outputs": [],
   "source": [
    "import os\n",
    "import json\n",
    "import torch\n",
    "import pprint\n",
    "import numpy as np\n",
    "from tensorboard_logger import Logger as TbLogger\n",
    "import warnings\n",
    "\n",
    "from problems.problem_tsp import TSP\n",
    "from problems.problem_vrp import CVRP\n",
    "from agent.ppo import PPO\n",
    "from tqdm.notebook import tqdm"
   ]
  },
  {
   "cell_type": "markdown",
   "id": "7d6e1c92",
   "metadata": {},
   "source": [
    "## 1. load the settings for training/inference\n",
    "We first load the settings for training or inference.<br>\n",
    "In our code, we use the file 'options.py' and the variable 'opts' to store all hyper-parameters."
   ]
  },
  {
   "cell_type": "code",
   "execution_count": 2,
   "id": "5fb3cbf7",
   "metadata": {},
   "outputs": [
    {
     "data": {
      "text/plain": [
       "Namespace(problem='tsp', graph_size=20, dummy_rate=0.5, step_method='2_opt', init_val_met='random', no_cuda=False, no_tb=False, show_figs=False, no_saving=False, use_assert=False, no_DDP=False, seed=1234, v_range=6.0, DACTencoder_head_num=4, DACTdecoder_head_num=4, critic_head_num=6, embedding_dim=64, hidden_dim=64, n_encode_layers=3, normalization='layer', RL_agent='ppo', gamma=0.999, K_epochs=3, eps_clip=0.1, T_train=200, n_step=4, best_cl=False, Xi_CL=0.25, batch_size=600, epoch_end=200, epoch_size=12000, lr_model=0.0001, lr_critic=3e-05, lr_decay=0.985, max_grad_norm=0.04, T_max=1500, eval_only=False, val_size=1000, val_dataset='./datasets/tsp_20_10000.pkl', val_m=1, load_path=None, resume=None, epoch_start=0, no_progress_bar=False, log_dir='logs', log_step=50, output_dir='outputs', run_name='run_name_20220530T183935', checkpoint_epochs=1, world_size=0, distributed=False, use_cuda=False, P=10000000000.0, save_dir='outputs/tsp_20/run_name_20220530T183935')"
      ]
     },
     "execution_count": 2,
     "metadata": {},
     "output_type": "execute_result"
    }
   ],
   "source": [
    "from options import get_options\n",
    "opts = get_options('')\n",
    "opts"
   ]
  },
  {
   "cell_type": "markdown",
   "id": "4e4a0035",
   "metadata": {},
   "source": [
    "## 2. TSP-20 example"
   ]
  },
  {
   "cell_type": "markdown",
   "id": "9945c413",
   "metadata": {},
   "source": [
    "We now try TSP-20 and the '2-opt' decoder. The initial solutions are randomly initialized and we turn off the tensorboard logging and model saving functions. As an example, we train our DACT for 3 epochs (128 instances per epoch) with batch size 32. And we will validate the performance on 10 instances."
   ]
  },
  {
   "cell_type": "code",
   "execution_count": 3,
   "id": "c198cd7b",
   "metadata": {},
   "outputs": [
    {
     "data": {
      "text/plain": [
       "Namespace(problem='tsp', graph_size=20, dummy_rate=0.5, step_method='2_opt', init_val_met='random', no_cuda=False, no_tb=True, show_figs=False, no_saving=True, use_assert=False, no_DDP=False, seed=1234, v_range=6.0, DACTencoder_head_num=4, DACTdecoder_head_num=4, critic_head_num=6, embedding_dim=64, hidden_dim=64, n_encode_layers=3, normalization='layer', RL_agent='ppo', gamma=0.999, K_epochs=3, eps_clip=0.1, T_train=200, n_step=4, best_cl=False, Xi_CL=0.25, batch_size=16, epoch_end=3, epoch_size=128, lr_model=0.0001, lr_critic=3e-05, lr_decay=0.985, max_grad_norm=0.04, T_max=1000, eval_only=False, val_size=10, val_dataset='./datasets/tsp_20_10000.pkl', val_m=1, load_path=None, resume=None, epoch_start=0, no_progress_bar=False, log_dir='logs', log_step=50, output_dir='outputs', run_name='run_name_20220530T183935', checkpoint_epochs=1, world_size=0, distributed=False, use_cuda=False, P=10000000000.0, save_dir='outputs/tsp_20/run_name_20220530T183935')"
      ]
     },
     "execution_count": 3,
     "metadata": {},
     "output_type": "execute_result"
    }
   ],
   "source": [
    "opts.problem = 'tsp' \n",
    "opts.graph_size = 20\n",
    "opts.val_dataset='./datasets/tsp_20_10000.pkl'\n",
    "opts.step_method = '2_opt'\n",
    "opts.init_val_met = 'random'\n",
    "opts.no_saving = True\n",
    "opts.no_tb = True\n",
    "opts.batch_size = 16\n",
    "opts.epoch_end = 3\n",
    "opts.epoch_size = 128\n",
    "opts.T_max = 1000\n",
    "opts.val_size = 10\n",
    "tb_logger = None\n",
    "opts"
   ]
  },
  {
   "cell_type": "code",
   "execution_count": 4,
   "id": "0aba1c10",
   "metadata": {},
   "outputs": [],
   "source": [
    "# Optionally configure tensorboard\n",
    "tb_logger = None\n",
    "if not opts.no_tb and not opts.distributed:\n",
    "    tb_logger = TbLogger(os.path.join(opts.log_dir, \"{}_{}\".format(opts.problem, \n",
    "                                                      opts.graph_size), opts.run_name))\n",
    "if not opts.no_saving and not os.path.exists(opts.save_dir):\n",
    "    os.makedirs(opts.save_dir)\n",
    "\n",
    "# Save arguments so exact configuration can always be found\n",
    "if not opts.no_saving:\n",
    "    with open(os.path.join(opts.save_dir, \"args.json\"), 'w') as f:\n",
    "        json.dump(vars(opts), f, indent=True)\n",
    "\n",
    "# Set the device\n",
    "opts.device = torch.device(\"cuda\" if opts.use_cuda else \"cpu\")"
   ]
  },
  {
   "cell_type": "markdown",
   "id": "a15caf00",
   "metadata": {},
   "source": [
    "We now get our DACT model (agent.actor) and the environment (problem) objects. In our code, \n",
    "\n",
    "- The problems are defined in the folder 'problems/' for TSP and CVRP\n",
    "\n",
    "- The model architecture is defined in the folder './nets' where we put some fundamental classes in file 'graph_layers.py' and we define our actor (DACT) and critic in 'actor_network.py' and 'critic_network.py' respectively.\n",
    "- The PPO class defined in file 'agent/ppo.py' stores all the procedures of training/inference, and here we name the PPO object as the 'agent'. Thus agent.actor is DACT and agent.critic is the critic."
   ]
  },
  {
   "cell_type": "code",
   "execution_count": 5,
   "id": "01615229",
   "metadata": {},
   "outputs": [
    {
     "name": "stdout",
     "output_type": "stream",
     "text": [
      "TSP with 20 nodes.  Do assert: False\n",
      "{'Total': 280801, 'Trainable': 280801}\n",
      "Distributed: False\n"
     ]
    }
   ],
   "source": [
    "def load_agent(name):\n",
    "    agent = {\n",
    "        'ppo': PPO,\n",
    "    }.get(name, None)\n",
    "    assert agent is not None, \"Currently unsupported agent: {}!\".format(name)\n",
    "    return agent\n",
    "\n",
    "def load_problem(name):\n",
    "    problem = {\n",
    "        'tsp': TSP,\n",
    "        'vrp': CVRP,\n",
    "    }.get(name, None)\n",
    "    assert problem is not None, \"Currently unsupported problem: {}!\".format(name)\n",
    "    return problem\n",
    "\n",
    "# Figure out what's the problem\n",
    "problem = load_problem(opts.problem)(\n",
    "                        p_size = opts.graph_size,\n",
    "                        step_method = opts.step_method,\n",
    "                        init_val_met = opts.init_val_met,\n",
    "                        with_assert = opts.use_assert,\n",
    "                        P = opts.P,\n",
    "                        DUMMY_RATE = opts.dummy_rate)\n",
    "\n",
    "# Figure out the RL algorithm\n",
    "agent = load_agent(opts.RL_agent)(problem.NAME, problem.size,  opts)"
   ]
  },
  {
   "cell_type": "code",
   "execution_count": 6,
   "id": "c60f7b6d",
   "metadata": {
    "scrolled": true
   },
   "outputs": [
    {
     "name": "stdout",
     "output_type": "stream",
     "text": [
      "Actor(\n",
      "  (embedder): EmbeddingNet(\n",
      "    (embedder): Linear(in_features=2, out_features=64, bias=False)\n",
      "  )\n",
      "  (encoder): mySequential(\n",
      "    (0): MultiHeadEncoder(\n",
      "      (MHA_sublayer): MultiHeadAttentionsubLayer(\n",
      "        (MHA): MultiHeadAttention()\n",
      "        (Norm): Normalization()\n",
      "      )\n",
      "      (FFandNorm_sublayer): FFandNormsubLayer(\n",
      "        (FF1): Sequential(\n",
      "          (0): Linear(in_features=64, out_features=64, bias=True)\n",
      "          (1): ReLU(inplace=True)\n",
      "          (2): Linear(in_features=64, out_features=64, bias=True)\n",
      "        )\n",
      "        (FF2): Sequential(\n",
      "          (0): Linear(in_features=64, out_features=64, bias=True)\n",
      "          (1): ReLU(inplace=True)\n",
      "          (2): Linear(in_features=64, out_features=64, bias=True)\n",
      "        )\n",
      "        (Norm): Normalization()\n",
      "      )\n",
      "    )\n",
      "    (1): MultiHeadEncoder(\n",
      "      (MHA_sublayer): MultiHeadAttentionsubLayer(\n",
      "        (MHA): MultiHeadAttention()\n",
      "        (Norm): Normalization()\n",
      "      )\n",
      "      (FFandNorm_sublayer): FFandNormsubLayer(\n",
      "        (FF1): Sequential(\n",
      "          (0): Linear(in_features=64, out_features=64, bias=True)\n",
      "          (1): ReLU(inplace=True)\n",
      "          (2): Linear(in_features=64, out_features=64, bias=True)\n",
      "        )\n",
      "        (FF2): Sequential(\n",
      "          (0): Linear(in_features=64, out_features=64, bias=True)\n",
      "          (1): ReLU(inplace=True)\n",
      "          (2): Linear(in_features=64, out_features=64, bias=True)\n",
      "        )\n",
      "        (Norm): Normalization()\n",
      "      )\n",
      "    )\n",
      "    (2): MultiHeadEncoder(\n",
      "      (MHA_sublayer): MultiHeadAttentionsubLayer(\n",
      "        (MHA): MultiHeadAttention()\n",
      "        (Norm): Normalization()\n",
      "      )\n",
      "      (FFandNorm_sublayer): FFandNormsubLayer(\n",
      "        (FF1): Sequential(\n",
      "          (0): Linear(in_features=64, out_features=64, bias=True)\n",
      "          (1): ReLU(inplace=True)\n",
      "          (2): Linear(in_features=64, out_features=64, bias=True)\n",
      "        )\n",
      "        (FF2): Sequential(\n",
      "          (0): Linear(in_features=64, out_features=64, bias=True)\n",
      "          (1): ReLU(inplace=True)\n",
      "          (2): Linear(in_features=64, out_features=64, bias=True)\n",
      "        )\n",
      "        (Norm): Normalization()\n",
      "      )\n",
      "    )\n",
      "  )\n",
      "  (decoder): MultiHeadDecoder(\n",
      "    (compater_node): MultiHeadCompat()\n",
      "    (compater_pos): MultiHeadCompat()\n",
      "    (project_graph_pos): Linear(in_features=64, out_features=64, bias=False)\n",
      "    (project_graph_node): Linear(in_features=64, out_features=64, bias=False)\n",
      "    (project_node_pos): Linear(in_features=64, out_features=64, bias=False)\n",
      "    (project_node_node): Linear(in_features=64, out_features=64, bias=False)\n",
      "    (value_head): MLP(\n",
      "      (fc1): Linear(in_features=8, out_features=32, bias=True)\n",
      "      (fc2): Linear(in_features=32, out_features=32, bias=True)\n",
      "      (fc3): Linear(in_features=32, out_features=1, bias=True)\n",
      "      (dropout): Dropout(p=0.05, inplace=False)\n",
      "      (ReLU): ReLU(inplace=True)\n",
      "    )\n",
      "  )\n",
      ")\n"
     ]
    }
   ],
   "source": [
    "print(agent.actor)"
   ]
  },
  {
   "cell_type": "code",
   "execution_count": 7,
   "id": "bf2e9c9b",
   "metadata": {
    "scrolled": true
   },
   "outputs": [
    {
     "name": "stdout",
     "output_type": "stream",
     "text": [
      "Critic(\n",
      "  (encoder): Sequential(\n",
      "    (0): MultiHeadAttentionLayerforCritic(\n",
      "      (0): SkipConnection(\n",
      "        (module): MultiHeadAttentionOrigin()\n",
      "      )\n",
      "      (1): Normalization()\n",
      "      (2): SkipConnection(\n",
      "        (module): Sequential(\n",
      "          (0): Linear(in_features=128, out_features=128, bias=True)\n",
      "          (1): ReLU(inplace=True)\n",
      "          (2): Linear(in_features=128, out_features=128, bias=True)\n",
      "        )\n",
      "      )\n",
      "      (3): Normalization()\n",
      "    )\n",
      "  )\n",
      "  (value_head): ValueDecoder(\n",
      "    (project_graph): Linear(in_features=128, out_features=128, bias=False)\n",
      "    (project_node): Linear(in_features=128, out_features=128, bias=False)\n",
      "    (MLP): MLP(\n",
      "      (fc1): Linear(in_features=128, out_features=128, bias=True)\n",
      "      (fc2): Linear(in_features=128, out_features=64, bias=True)\n",
      "      (fc3): Linear(in_features=64, out_features=1, bias=True)\n",
      "      (dropout): Dropout(p=0.05, inplace=False)\n",
      "      (ReLU): ReLU(inplace=True)\n",
      "    )\n",
      "  )\n",
      ")\n"
     ]
    }
   ],
   "source": [
    "print(agent.critic)"
   ]
  },
  {
   "cell_type": "code",
   "execution_count": 8,
   "id": "826ec251",
   "metadata": {},
   "outputs": [
    {
     "data": {
      "text/plain": [
       "Adam (\n",
       "Parameter Group 0\n",
       "    amsgrad: False\n",
       "    betas: (0.9, 0.999)\n",
       "    eps: 1e-08\n",
       "    foreach: None\n",
       "    initial_lr: 0.0001\n",
       "    lr: 0.0001\n",
       "    maximize: False\n",
       "    weight_decay: 0\n",
       "\n",
       "Parameter Group 1\n",
       "    amsgrad: False\n",
       "    betas: (0.9, 0.999)\n",
       "    eps: 1e-08\n",
       "    foreach: None\n",
       "    initial_lr: 3e-05\n",
       "    lr: 3e-05\n",
       "    maximize: False\n",
       "    weight_decay: 0\n",
       ")"
      ]
     },
     "execution_count": 8,
     "metadata": {},
     "output_type": "execute_result"
    }
   ],
   "source": [
    "agent.optimizer"
   ]
  },
  {
   "cell_type": "markdown",
   "id": "5e648ed2",
   "metadata": {},
   "source": [
    "### Test before training\n",
    "We first test the DACT on 10 instances with T=1k steps to see the performance of random initialization.\n",
    "\n",
    "As can be seen, the best average costs after 1k steps of search is around 7.414"
   ]
  },
  {
   "cell_type": "code",
   "execution_count": 9,
   "id": "52b66665",
   "metadata": {
    "scrolled": false
   },
   "outputs": [
    {
     "name": "stdout",
     "output_type": "stream",
     "text": [
      "\n",
      "Inference with x1 augments...\n",
      "10 instances initialized.\n"
     ]
    },
    {
     "name": "stderr",
     "output_type": "stream",
     "text": [
      "rollout:   0%|                    | 0/1000 [00:00<?, ?it/s]                                                                                    /Users/yiningma/Documents/Research/VRP-DACT/nets/actor_network.py:160: UserWarning: __floordiv__ is deprecated, and its behavior will change in a future version of pytorch. It currently rounds toward 0 (like the 'trunc' function NOT 'floor'). This results in incorrect rounding for negative values. To keep the current behavior, use torch.div(a, b, rounding_mode='trunc'), or for actual floor division, use torch.div(a, b, rounding_mode='floor').\n",
      "  row_selected = pair_index // gs\n",
      "rollout: 100%|████████████████████| 1000/1000 [00:05<00:00, 168.89it/s]                                                                        "
     ]
    },
    {
     "name": "stdout",
     "output_type": "stream",
     "text": [
      "\n",
      " ------------------------------------------------------------\n",
      "         Avg total reward:          2.734284   +- 0.340958  \n",
      "          Avg step reward:          0.002734   +- 0.011168  \n",
      "------------------------------------------------------------\n",
      "           Avg init cost:           10.148485  +- 0.386145  \n",
      "     Avg cost after 20% steps:      10.230042  +- 0.527028  \n",
      "     Avg cost after 40% steps:      10.286013  +- 0.494591  \n",
      "     Avg cost after 60% steps:      10.316264  +- 0.341198  \n",
      "     Avg cost after 80% steps:      10.714093  +- 0.386298  \n",
      "------------------------------------------------------------\n",
      "   Avg best cost after 20% steps:   8.339300   +- 0.277883  \n",
      "   Avg best cost after 40% steps:   7.998197   +- 0.233483  \n",
      "   Avg best cost after 60% steps:   7.799273   +- 0.246264  \n",
      "   Avg best cost after 80% steps:   7.747409   +- 0.228793  \n",
      "        Avg final best cost:        7.414200   +- 0.242731  \n",
      "------------------------------------------------------------\n",
      "           Avg used time:           0.593292s\n",
      "------------------------------------------------------------ \n",
      "\n"
     ]
    },
    {
     "name": "stderr",
     "output_type": "stream",
     "text": [
      "\n"
     ]
    }
   ],
   "source": [
    "agent.start_inference(problem, opts.val_dataset, tb_logger)"
   ]
  },
  {
   "cell_type": "markdown",
   "id": "6b8c216f",
   "metadata": {},
   "source": [
    "### Train for 3 epochs\n",
    "\n",
    "We now perform a short training (3 epochs) for demonstration. (using CPU on my Macbook, you can use GPU on your machine:))"
   ]
  },
  {
   "cell_type": "code",
   "execution_count": 10,
   "id": "ee592796",
   "metadata": {
    "scrolled": true
   },
   "outputs": [
    {
     "name": "stdout",
     "output_type": "stream",
     "text": [
      "\n",
      "\n",
      "\n",
      "| ********************* Training epoch 0 ********************* |\n",
      "Training with actor lr=1.000e-04 critic lr=3.000e-05 for run run_name_20220530T183935\n",
      "128 instances initialized.\n"
     ]
    },
    {
     "name": "stderr",
     "output_type": "stream",
     "text": [
      "training: 100%|████████████████████| 1200/1200 [02:14<00:00,  8.92it/s]                                                                        "
     ]
    },
    {
     "name": "stdout",
     "output_type": "stream",
     "text": [
      "\n",
      "Inference with x1 augments...\n"
     ]
    },
    {
     "name": "stderr",
     "output_type": "stream",
     "text": [
      "\n"
     ]
    },
    {
     "name": "stdout",
     "output_type": "stream",
     "text": [
      "10 instances initialized.\n"
     ]
    },
    {
     "name": "stderr",
     "output_type": "stream",
     "text": [
      "rollout: 100%|████████████████████| 1000/1000 [00:06<00:00, 155.74it/s]                                                                        "
     ]
    },
    {
     "name": "stdout",
     "output_type": "stream",
     "text": [
      "\n",
      " ------------------------------------------------------------\n",
      "         Avg total reward:          2.837795   +- 0.346943  \n",
      "          Avg step reward:          0.002838   +- 0.011474  \n",
      "------------------------------------------------------------\n",
      "           Avg init cost:           10.148485  +- 0.386145  \n",
      "     Avg cost after 20% steps:      10.367243  +- 0.325827  \n",
      "     Avg cost after 40% steps:      10.444877  +- 0.272816  \n",
      "     Avg cost after 60% steps:      10.444994  +- 0.385916  \n",
      "     Avg cost after 80% steps:      10.373947  +- 0.407691  \n",
      "------------------------------------------------------------\n",
      "   Avg best cost after 20% steps:   8.148291   +- 0.245275  \n",
      "   Avg best cost after 40% steps:   7.679384   +- 0.244808  \n",
      "   Avg best cost after 60% steps:   7.527102   +- 0.261678  \n",
      "   Avg best cost after 80% steps:   7.402348   +- 0.289529  \n",
      "        Avg final best cost:        7.310689   +- 0.271949  \n",
      "------------------------------------------------------------\n",
      "           Avg used time:           0.642406s\n",
      "------------------------------------------------------------ \n",
      "\n",
      "\n",
      "\n",
      "\n",
      "| ********************* Training epoch 1 ********************* |\n",
      "Training with actor lr=9.850e-05 critic lr=2.955e-05 for run run_name_20220530T183935\n"
     ]
    },
    {
     "name": "stderr",
     "output_type": "stream",
     "text": [
      "\n"
     ]
    },
    {
     "name": "stdout",
     "output_type": "stream",
     "text": [
      "128 instances initialized.\n"
     ]
    },
    {
     "name": "stderr",
     "output_type": "stream",
     "text": [
      "training: 100%|████████████████████| 1200/1200 [02:15<00:00,  8.84it/s]                                                                        "
     ]
    },
    {
     "name": "stdout",
     "output_type": "stream",
     "text": [
      "\n",
      "Inference with x1 augments...\n"
     ]
    },
    {
     "name": "stderr",
     "output_type": "stream",
     "text": [
      "\n"
     ]
    },
    {
     "name": "stdout",
     "output_type": "stream",
     "text": [
      "10 instances initialized.\n"
     ]
    },
    {
     "name": "stderr",
     "output_type": "stream",
     "text": [
      "rollout: 100%|████████████████████| 1000/1000 [00:06<00:00, 154.92it/s]                                                                        "
     ]
    },
    {
     "name": "stdout",
     "output_type": "stream",
     "text": [
      "\n",
      " ------------------------------------------------------------\n",
      "         Avg total reward:          3.199739   +- 0.287414  \n",
      "          Avg step reward:          0.003200   +- 0.012141  \n",
      "------------------------------------------------------------\n",
      "           Avg init cost:           10.148485  +- 0.386145  \n",
      "     Avg cost after 20% steps:      9.275047   +- 0.374984  \n",
      "     Avg cost after 40% steps:      9.933675   +- 0.295993  \n",
      "     Avg cost after 60% steps:      9.714057   +- 0.399583  \n",
      "     Avg cost after 80% steps:      10.167959  +- 0.559399  \n",
      "------------------------------------------------------------\n",
      "   Avg best cost after 20% steps:   7.652226   +- 0.268861  \n",
      "   Avg best cost after 40% steps:   7.315093   +- 0.284983  \n",
      "   Avg best cost after 60% steps:   7.086202   +- 0.303867  \n",
      "   Avg best cost after 80% steps:   7.026217   +- 0.289957  \n",
      "        Avg final best cost:        6.948744   +- 0.283791  \n",
      "------------------------------------------------------------\n",
      "           Avg used time:           0.645823s\n",
      "------------------------------------------------------------ \n",
      "\n",
      "\n",
      "\n",
      "\n",
      "| ********************* Training epoch 2 ********************* |\n",
      "Training with actor lr=9.702e-05 critic lr=2.911e-05 for run run_name_20220530T183935\n"
     ]
    },
    {
     "name": "stderr",
     "output_type": "stream",
     "text": [
      "\n"
     ]
    },
    {
     "name": "stdout",
     "output_type": "stream",
     "text": [
      "128 instances initialized.\n"
     ]
    },
    {
     "name": "stderr",
     "output_type": "stream",
     "text": [
      "training: 100%|████████████████████| 1200/1200 [02:15<00:00,  8.84it/s]                                                                        "
     ]
    },
    {
     "name": "stdout",
     "output_type": "stream",
     "text": [
      "\n",
      "Inference with x1 augments...\n"
     ]
    },
    {
     "name": "stderr",
     "output_type": "stream",
     "text": [
      "\n"
     ]
    },
    {
     "name": "stdout",
     "output_type": "stream",
     "text": [
      "10 instances initialized.\n"
     ]
    },
    {
     "name": "stderr",
     "output_type": "stream",
     "text": [
      "rollout: 100%|████████████████████| 1000/1000 [00:06<00:00, 151.72it/s]                                                                        "
     ]
    },
    {
     "name": "stdout",
     "output_type": "stream",
     "text": [
      "\n",
      " ------------------------------------------------------------\n",
      "         Avg total reward:          4.024657   +- 0.363000  \n",
      "          Avg step reward:          0.004025   +- 0.014728  \n",
      "------------------------------------------------------------\n",
      "           Avg init cost:           10.148485  +- 0.386145  \n",
      "     Avg cost after 20% steps:      9.552496   +- 0.446404  \n",
      "     Avg cost after 40% steps:      9.051730   +- 0.195298  \n",
      "     Avg cost after 60% steps:      8.658719   +- 0.438311  \n",
      "     Avg cost after 80% steps:      8.972696   +- 0.315070  \n",
      "------------------------------------------------------------\n",
      "   Avg best cost after 20% steps:   6.679961   +- 0.183774  \n",
      "   Avg best cost after 40% steps:   6.433897   +- 0.160505  \n",
      "   Avg best cost after 60% steps:   6.274650   +- 0.172030  \n",
      "   Avg best cost after 80% steps:   6.184441   +- 0.186275  \n",
      "        Avg final best cost:        6.123827   +- 0.181210  \n",
      "------------------------------------------------------------\n",
      "           Avg used time:           0.659458s\n",
      "------------------------------------------------------------ \n",
      "\n"
     ]
    },
    {
     "name": "stderr",
     "output_type": "stream",
     "text": [
      "\n"
     ]
    }
   ],
   "source": [
    " agent.start_training(problem, opts.val_dataset, tb_logger)  "
   ]
  },
  {
   "cell_type": "markdown",
   "id": "c8abcb8c",
   "metadata": {},
   "source": [
    "### Test after short-training\n",
    "We then test the DACT on the same 10 instances with T=1k steps to see the performance after the above short training.\n",
    "\n",
    "As can be seen, the best average cost after 1k steps of search is around 6.123 which shows some imporvement. But off cause such toy training with the small-scale training data is not enough for the Transformer model to get good results. Please follow the hyper-parameters in our paper for actually training."
   ]
  },
  {
   "cell_type": "code",
   "execution_count": 11,
   "id": "5a9b1e5d",
   "metadata": {},
   "outputs": [
    {
     "name": "stdout",
     "output_type": "stream",
     "text": [
      "\n",
      "Inference with x1 augments...\n",
      "10 instances initialized.\n"
     ]
    },
    {
     "name": "stderr",
     "output_type": "stream",
     "text": [
      "rollout: 100%|████████████████████| 1000/1000 [00:06<00:00, 156.91it/s]                                                                        "
     ]
    },
    {
     "name": "stdout",
     "output_type": "stream",
     "text": [
      "\n",
      " ------------------------------------------------------------\n",
      "         Avg total reward:          4.024657   +- 0.363000  \n",
      "          Avg step reward:          0.004025   +- 0.014728  \n",
      "------------------------------------------------------------\n",
      "           Avg init cost:           10.148485  +- 0.386145  \n",
      "     Avg cost after 20% steps:      9.552496   +- 0.446404  \n",
      "     Avg cost after 40% steps:      9.051730   +- 0.195298  \n",
      "     Avg cost after 60% steps:      8.658719   +- 0.438311  \n",
      "     Avg cost after 80% steps:      8.972696   +- 0.315070  \n",
      "------------------------------------------------------------\n",
      "   Avg best cost after 20% steps:   6.679961   +- 0.183774  \n",
      "   Avg best cost after 40% steps:   6.433897   +- 0.160505  \n",
      "   Avg best cost after 60% steps:   6.274650   +- 0.172030  \n",
      "   Avg best cost after 80% steps:   6.184441   +- 0.186275  \n",
      "        Avg final best cost:        6.123827   +- 0.181210  \n",
      "------------------------------------------------------------\n",
      "           Avg used time:           0.637615s\n",
      "------------------------------------------------------------ \n",
      "\n"
     ]
    },
    {
     "name": "stderr",
     "output_type": "stream",
     "text": [
      "\n"
     ]
    }
   ],
   "source": [
    "agent.start_inference(problem, opts.val_dataset, tb_logger)"
   ]
  },
  {
   "cell_type": "markdown",
   "id": "a15781db",
   "metadata": {},
   "source": [
    "### Load the pre-trained model to test\n",
    "We now load the pre-trained model to see the real performance of our DACT."
   ]
  },
  {
   "cell_type": "code",
   "execution_count": 12,
   "id": "4dedd8db",
   "metadata": {},
   "outputs": [
    {
     "name": "stdout",
     "output_type": "stream",
     "text": [
      " [*] Loading data from ./pretrained/tsp20-epoch-199.pt\n",
      "\n",
      "Inference with x1 augments...\n",
      "10 instances initialized.\n"
     ]
    },
    {
     "name": "stderr",
     "output_type": "stream",
     "text": [
      "rollout: 100%|████████████████████| 1000/1000 [00:06<00:00, 150.57it/s]                                                                        "
     ]
    },
    {
     "name": "stdout",
     "output_type": "stream",
     "text": [
      "\n",
      " ------------------------------------------------------------\n",
      "         Avg total reward:          6.428893   +- 0.361167  \n",
      "          Avg step reward:          0.006429   +- 0.018263  \n",
      "------------------------------------------------------------\n",
      "           Avg init cost:           10.148485  +- 0.386145  \n",
      "     Avg cost after 20% steps:      4.526318   +- 0.284380  \n",
      "     Avg cost after 40% steps:      4.206199   +- 0.098675  \n",
      "     Avg cost after 60% steps:      4.927659   +- 0.399352  \n",
      "     Avg cost after 80% steps:      4.811302   +- 0.257685  \n",
      "------------------------------------------------------------\n",
      "   Avg best cost after 20% steps:   3.721851   +- 0.081973  \n",
      "   Avg best cost after 40% steps:   3.719591   +- 0.082467  \n",
      "   Avg best cost after 60% steps:   3.719591   +- 0.082467  \n",
      "   Avg best cost after 80% steps:   3.719591   +- 0.082467  \n",
      "        Avg final best cost:        3.719591   +- 0.082467  \n",
      "------------------------------------------------------------\n",
      "           Avg used time:           0.664498s\n",
      "------------------------------------------------------------ \n",
      "\n"
     ]
    },
    {
     "name": "stderr",
     "output_type": "stream",
     "text": [
      "\n"
     ]
    }
   ],
   "source": [
    "opts.load_path = './pretrained/tsp20-epoch-199.pt'\n",
    "\n",
    "assert opts.load_path is None or opts.resume is None, \"Only one of load path and resume can be given\"\n",
    "load_path = opts.load_path if opts.load_path is not None else opts.resume\n",
    "if load_path is not None:\n",
    "    agent.load(load_path)\n",
    "\n",
    "agent.start_inference(problem, opts.val_dataset, tb_logger)"
   ]
  },
  {
   "cell_type": "markdown",
   "id": "63a961e1",
   "metadata": {},
   "source": [
    "## 3. CVRP example\n",
    "\n",
    "We now try CVRP. Different from TSP, we consider the dummy depots to handle the sub-tours in CVRP (see our Appendix in https://arxiv.org/abs/2110.02544 for detailed explanation)."
   ]
  },
  {
   "cell_type": "code",
   "execution_count": 13,
   "id": "74534d92",
   "metadata": {},
   "outputs": [
    {
     "data": {
      "text/plain": [
       "Namespace(problem='vrp', graph_size=20, dummy_rate=0.5, step_method='2_opt', init_val_met='random', no_cuda=False, no_tb=True, show_figs=False, no_saving=True, use_assert=False, no_DDP=False, seed=1234, v_range=6.0, DACTencoder_head_num=4, DACTdecoder_head_num=4, critic_head_num=6, embedding_dim=64, hidden_dim=64, n_encode_layers=3, normalization='layer', RL_agent='ppo', gamma=0.999, K_epochs=3, eps_clip=0.1, T_train=200, n_step=4, best_cl=False, Xi_CL=0.25, batch_size=16, epoch_end=3, epoch_size=128, lr_model=0.0001, lr_critic=3e-05, lr_decay=0.985, max_grad_norm=0.04, T_max=1000, eval_only=False, val_size=10, val_dataset='./datasets/tsp_20_10000.pkl', val_m=1, load_path='./pretrained/tsp20-epoch-199.pt', resume=None, epoch_start=0, no_progress_bar=False, log_dir='logs', log_step=50, output_dir='outputs', run_name='run_name_20220530T183935', checkpoint_epochs=1, world_size=0, distributed=False, use_cuda=False, P=10000000000.0, save_dir='outputs/tsp_20/run_name_20220530T183935', device=device(type='cpu'))"
      ]
     },
     "execution_count": 13,
     "metadata": {},
     "output_type": "execute_result"
    }
   ],
   "source": [
    "opts.problem = 'vrp' \n",
    "opts.step_method = '2_opt'\n",
    "opts.init_val_met = 'random'\n",
    "opts.no_saving = True\n",
    "opts.no_tb = True\n",
    "opts.T_max = 1000\n",
    "opts.val_size = 10\n",
    "tb_logger = None\n",
    "opts"
   ]
  },
  {
   "cell_type": "markdown",
   "id": "41de8a28",
   "metadata": {},
   "source": [
    "### Load the pre-trained model to test\n",
    "We now load the pre-trained model to see the performance."
   ]
  },
  {
   "cell_type": "markdown",
   "id": "b547d831",
   "metadata": {},
   "source": [
    "#### CVRP-20\n",
    "Note that we cosider 10 dummy depots for CVRP-20. So the dummy rate is 0.5 (0.5*20=10)."
   ]
  },
  {
   "cell_type": "code",
   "execution_count": 14,
   "id": "b359eb1c",
   "metadata": {},
   "outputs": [
    {
     "name": "stdout",
     "output_type": "stream",
     "text": [
      "CVRP with 20 nodes and 10 dummy depot.\n",
      "  Do assert: False\n",
      "{'Total': 281121, 'Trainable': 281121}\n",
      "Distributed: False\n",
      " [*] Loading data from pretrained/cvrp20-epoch-191.pt\n",
      "\n",
      "Inference with x1 augments...\n",
      "10 instances initialized.\n"
     ]
    },
    {
     "name": "stderr",
     "output_type": "stream",
     "text": [
      "rollout: 100%|████████████████████| 1000/1000 [00:10<00:00, 96.34it/s]                                                                         "
     ]
    },
    {
     "name": "stdout",
     "output_type": "stream",
     "text": [
      "\n",
      " ------------------------------------------------------------\n",
      "         Avg total reward:          6.445018   +- 0.455971  \n",
      "          Avg step reward:          0.006445   +- 0.020147  \n",
      "------------------------------------------------------------\n",
      "           Avg init cost:           12.586521  +- 0.517959  \n",
      "     Avg cost after 20% steps:      6.379748   +- 0.317011  \n",
      "     Avg cost after 40% steps:      6.916287   +- 0.504030  \n",
      "     Avg cost after 60% steps:      6.666201   +- 0.359995  \n",
      "     Avg cost after 80% steps:      6.756374   +- 0.337390  \n",
      "------------------------------------------------------------\n",
      "   Avg best cost after 20% steps:   6.165843   +- 0.324155  \n",
      "   Avg best cost after 40% steps:   6.158087   +- 0.324648  \n",
      "   Avg best cost after 60% steps:   6.142027   +- 0.327137  \n",
      "   Avg best cost after 80% steps:   6.141504   +- 0.327112  \n",
      "        Avg final best cost:        6.141503   +- 0.327112  \n",
      "------------------------------------------------------------\n",
      "           Avg used time:           1.038683s\n",
      "------------------------------------------------------------ \n",
      "\n"
     ]
    },
    {
     "name": "stderr",
     "output_type": "stream",
     "text": [
      "\n"
     ]
    }
   ],
   "source": [
    "opts.graph_size = 20\n",
    "opts.dummy_rate = 0.5\n",
    "opts.val_dataset='./datasets/cvrp_20_10000.pkl'\n",
    "\n",
    "problem = load_problem(opts.problem)(\n",
    "                        p_size = opts.graph_size,\n",
    "                        step_method = opts.step_method,\n",
    "                        init_val_met = opts.init_val_met,\n",
    "                        with_assert = opts.use_assert,\n",
    "                        P = opts.P,\n",
    "                        DUMMY_RATE = opts.dummy_rate)\n",
    "\n",
    "agent = load_agent(opts.RL_agent)(problem.NAME, problem.size,  opts)\n",
    "\n",
    "opts.load_path = 'pretrained/cvrp20-epoch-191.pt'\n",
    "\n",
    "assert opts.load_path is None or opts.resume is None, \"Only one of load path and resume can be given\"\n",
    "load_path = opts.load_path if opts.load_path is not None else opts.resume\n",
    "if load_path is not None:\n",
    "    agent.load(load_path)\n",
    "\n",
    "agent.start_inference(problem, opts.val_dataset, tb_logger)"
   ]
  },
  {
   "cell_type": "markdown",
   "id": "f7af1178",
   "metadata": {},
   "source": [
    "#### CVRP-50\n",
    "Note that we cosider 20 dummy depots for CVRP-50. So the dummy rate is 0.4 (0.4*50=20)."
   ]
  },
  {
   "cell_type": "code",
   "execution_count": 15,
   "id": "d9e40ae8",
   "metadata": {
    "scrolled": false
   },
   "outputs": [
    {
     "name": "stdout",
     "output_type": "stream",
     "text": [
      "CVRP with 50 nodes and 20 dummy depot.\n",
      "  Do assert: False\n",
      "{'Total': 281121, 'Trainable': 281121}\n",
      "Distributed: False\n",
      " [*] Loading data from pretrained/cvrp50-epoch-197.pt\n",
      "\n",
      "Inference with x1 augments...\n",
      "10 instances initialized.\n"
     ]
    },
    {
     "name": "stderr",
     "output_type": "stream",
     "text": [
      "rollout: 100%|████████████████████| 1000/1000 [00:22<00:00, 43.87it/s]                                                                         "
     ]
    },
    {
     "name": "stdout",
     "output_type": "stream",
     "text": [
      "\n",
      " ------------------------------------------------------------\n",
      "         Avg total reward:          18.863953  +- 0.771276  \n",
      "          Avg step reward:          0.018864   +- 0.034527  \n",
      "------------------------------------------------------------\n",
      "           Avg init cost:           29.390284  +- 1.007939  \n",
      "     Avg cost after 20% steps:      11.117811  +- 0.519719  \n",
      "     Avg cost after 40% steps:      11.367609  +- 0.542217  \n",
      "     Avg cost after 60% steps:      11.128602  +- 0.435248  \n",
      "     Avg cost after 80% steps:      10.895082  +- 0.411694  \n",
      "------------------------------------------------------------\n",
      "   Avg best cost after 20% steps:   10.786608  +- 0.452383  \n",
      "   Avg best cost after 40% steps:   10.636443  +- 0.430322  \n",
      "   Avg best cost after 60% steps:   10.539412  +- 0.414014  \n",
      "   Avg best cost after 80% steps:   10.537088  +- 0.413605  \n",
      "        Avg final best cost:        10.526330  +- 0.415369  \n",
      "------------------------------------------------------------\n",
      "           Avg used time:           2.280387s\n",
      "------------------------------------------------------------ \n",
      "\n"
     ]
    },
    {
     "name": "stderr",
     "output_type": "stream",
     "text": [
      "\n"
     ]
    }
   ],
   "source": [
    "opts.graph_size = 50\n",
    "opts.dummy_rate = 0.4\n",
    "opts.val_dataset='./datasets/cvrp_50_10000.pkl'\n",
    "\n",
    "problem = load_problem(opts.problem)(\n",
    "                        p_size = opts.graph_size,\n",
    "                        step_method = opts.step_method,\n",
    "                        init_val_met = opts.init_val_met,\n",
    "                        with_assert = opts.use_assert,\n",
    "                        P = opts.P,\n",
    "                        DUMMY_RATE = opts.dummy_rate)\n",
    "\n",
    "agent = load_agent(opts.RL_agent)(problem.NAME, problem.size,  opts)\n",
    "\n",
    "opts.load_path = 'pretrained/cvrp50-epoch-197.pt'\n",
    "\n",
    "assert opts.load_path is None or opts.resume is None, \"Only one of load path and resume can be given\"\n",
    "load_path = opts.load_path if opts.load_path is not None else opts.resume\n",
    "if load_path is not None:\n",
    "    agent.load(load_path)\n",
    "\n",
    "agent.start_inference(problem, opts.val_dataset, tb_logger)"
   ]
  },
  {
   "cell_type": "markdown",
   "id": "70901f1d",
   "metadata": {},
   "source": [
    "#### CVRP-100\n",
    "Note that we cosider 20 dummy depots for CVRP-100. So the dummy rate is 0.2 (0.2*100=20)."
   ]
  },
  {
   "cell_type": "code",
   "execution_count": 16,
   "id": "f2aee08a",
   "metadata": {},
   "outputs": [
    {
     "name": "stdout",
     "output_type": "stream",
     "text": [
      "CVRP with 100 nodes and 20 dummy depot.\n",
      "  Do assert: False\n",
      "{'Total': 281121, 'Trainable': 281121}\n",
      "Distributed: False\n",
      " [*] Loading data from pretrained/cvrp100-epoch-198.pt\n",
      "\n",
      "Inference with x1 augments...\n",
      "10 instances initialized.\n"
     ]
    },
    {
     "name": "stderr",
     "output_type": "stream",
     "text": [
      "rollout: 100%|████████████████████| 1000/1000 [00:38<00:00, 25.84it/s]                                                                         "
     ]
    },
    {
     "name": "stdout",
     "output_type": "stream",
     "text": [
      "\n",
      " ------------------------------------------------------------\n",
      "         Avg total reward:          40.455200  +- 0.553329  \n",
      "          Avg step reward:          0.040455   +- 0.049510  \n",
      "------------------------------------------------------------\n",
      "           Avg init cost:           56.810841  +- 0.976980  \n",
      "     Avg cost after 20% steps:      18.063940  +- 0.774899  \n",
      "     Avg cost after 40% steps:      17.388454  +- 0.793675  \n",
      "     Avg cost after 60% steps:      17.239515  +- 0.788243  \n",
      "     Avg cost after 80% steps:      17.262287  +- 0.617114  \n",
      "------------------------------------------------------------\n",
      "   Avg best cost after 20% steps:   17.619732  +- 0.712923  \n",
      "   Avg best cost after 40% steps:   16.817329  +- 0.655099  \n",
      "   Avg best cost after 60% steps:   16.490788  +- 0.602953  \n",
      "   Avg best cost after 80% steps:   16.369129  +- 0.605830  \n",
      "        Avg final best cost:        16.355635  +- 0.607116  \n",
      "------------------------------------------------------------\n",
      "           Avg used time:           3.871024s\n",
      "------------------------------------------------------------ \n",
      "\n"
     ]
    },
    {
     "name": "stderr",
     "output_type": "stream",
     "text": [
      "\n"
     ]
    }
   ],
   "source": [
    "opts.graph_size = 100\n",
    "opts.dummy_rate = 0.2\n",
    "opts.val_dataset='./datasets/cvrp_100_10000.pkl'\n",
    "\n",
    "problem = load_problem(opts.problem)(\n",
    "                        p_size = opts.graph_size,\n",
    "                        step_method = opts.step_method,\n",
    "                        init_val_met = opts.init_val_met,\n",
    "                        with_assert = opts.use_assert,\n",
    "                        P = opts.P,\n",
    "                        DUMMY_RATE = opts.dummy_rate)\n",
    "\n",
    "agent = load_agent(opts.RL_agent)(problem.NAME, problem.size,  opts)\n",
    "\n",
    "opts.load_path = 'pretrained/cvrp100-epoch-198.pt'\n",
    "\n",
    "assert opts.load_path is None or opts.resume is None, \"Only one of load path and resume can be given\"\n",
    "load_path = opts.load_path if opts.load_path is not None else opts.resume\n",
    "if load_path is not None:\n",
    "    agent.load(load_path)\n",
    "\n",
    "agent.start_inference(problem, opts.val_dataset, tb_logger)"
   ]
  },
  {
   "cell_type": "markdown",
   "id": "f5f7961e",
   "metadata": {},
   "source": [
    "## 4. Look inside the data structure (Taking TSP-20 as an example)\n",
    "\n",
    "If you want to modify DACT for your own task, I bet this part is important and helpful for you to understand the current data structure of the DACT :)\n",
    "\n",
    "### Switch back to TSP-20\n",
    "Let's first switch back to TSP-20 and load the pre-trained DACT model."
   ]
  },
  {
   "cell_type": "code",
   "execution_count": 17,
   "id": "2d832c47",
   "metadata": {},
   "outputs": [
    {
     "name": "stdout",
     "output_type": "stream",
     "text": [
      "TSP with 20 nodes.  Do assert: False\n",
      "{'Total': 280801, 'Trainable': 280801}\n",
      "Distributed: False\n",
      " [*] Loading data from ./pretrained/tsp20-epoch-199.pt\n"
     ]
    }
   ],
   "source": [
    "opts.problem = 'tsp' \n",
    "opts.graph_size = 20\n",
    "opts.val_dataset='./datasets/tsp_20_10000.pkl'\n",
    "opts.step_method = '2_opt'\n",
    "opts.init_val_met = 'random'\n",
    "opts.no_saving = True\n",
    "opts.no_tb = True\n",
    "opts.T_max = 1000\n",
    "opts.val_size = 10\n",
    "tb_logger = None\n",
    "\n",
    "problem = load_problem(opts.problem)(\n",
    "                        p_size = opts.graph_size,\n",
    "                        step_method = opts.step_method,\n",
    "                        init_val_met = opts.init_val_met,\n",
    "                        with_assert = opts.use_assert,\n",
    "                        P = opts.P,\n",
    "                        DUMMY_RATE = opts.dummy_rate)\n",
    "\n",
    "agent = load_agent(opts.RL_agent)(problem.NAME, problem.size,  opts)\n",
    "\n",
    "opts.load_path = './pretrained/tsp20-epoch-199.pt'\n",
    "\n",
    "assert opts.load_path is None or opts.resume is None, \"Only one of load path and resume can be given\"\n",
    "load_path = opts.load_path if opts.load_path is not None else opts.resume\n",
    "if load_path is not None:\n",
    "    agent.load(load_path)\n"
   ]
  },
  {
   "cell_type": "markdown",
   "id": "83657aa2",
   "metadata": {},
   "source": [
    "### initilize 10 instances and show the first one"
   ]
  },
  {
   "cell_type": "code",
   "execution_count": 18,
   "id": "1c37b91e",
   "metadata": {},
   "outputs": [
    {
     "name": "stdout",
     "output_type": "stream",
     "text": [
      "10 instances initialized.\n",
      "tensor([[0.1990, 0.0370],\n",
      "        [0.8674, 0.6153],\n",
      "        [0.7322, 0.5163],\n",
      "        [0.1122, 0.9976],\n",
      "        [0.4591, 0.6927],\n",
      "        [0.4451, 0.7435],\n",
      "        [0.5121, 0.2444],\n",
      "        [0.3744, 0.6207],\n",
      "        [0.6183, 0.5285],\n",
      "        [0.1721, 0.9431],\n",
      "        [0.1924, 0.2713],\n",
      "        [0.2972, 0.8603],\n",
      "        [0.5501, 0.9708],\n",
      "        [0.5080, 0.7422],\n",
      "        [0.2836, 0.3816],\n",
      "        [0.2689, 0.0147],\n",
      "        [0.7036, 0.1035],\n",
      "        [0.7376, 0.9486],\n",
      "        [0.1277, 0.8159],\n",
      "        [0.8329, 0.7074]])\n"
     ]
    }
   ],
   "source": [
    "from torch.utils.data import DataLoader\n",
    "from problems.problem_tsp import TSPDataset\n",
    "dataset = TSPDataset(size = 20, num_samples = 10)\n",
    "batch = next(iter(DataLoader(dataset, batch_size=10)))\n",
    "coordinates_first = batch['coordinates'][0]\n",
    "print(coordinates_first)"
   ]
  },
  {
   "cell_type": "markdown",
   "id": "29fd7768",
   "metadata": {},
   "source": [
    "### Get initial solutions ramdomly"
   ]
  },
  {
   "cell_type": "markdown",
   "id": "31722577",
   "metadata": {},
   "source": [
    "#### **important note !!!!**\n",
    "\n",
    "**Please note that in our implementation, the solution is stored in a linked list format. Here, if rec[i] = j, it means the node i is connected to node j, i.e., edge i-j is in the solution. For example, if edge 0-1, edge 1-5, edge 2-10 are in the solution, so we have rec[0]=1, rec[1]=5 and rec[2]=10.**"
   ]
  },
  {
   "cell_type": "code",
   "execution_count": 19,
   "id": "39250fc0",
   "metadata": {},
   "outputs": [
    {
     "name": "stdout",
     "output_type": "stream",
     "text": [
      "tensor([14, 12,  7, 15, 16,  6,  1, 11, 19,  5, 13, 18,  8, 17,  3,  2,  0,  4,\n",
      "         9, 10])\n"
     ]
    }
   ],
   "source": [
    "rec = problem.get_initial_solutions(batch)\n",
    "print(rec[0])"
   ]
  },
  {
   "cell_type": "markdown",
   "id": "bdd07d3c",
   "metadata": {},
   "source": [
    "Let's plot the initial solution for the first instance to illustrate the linked list format."
   ]
  },
  {
   "cell_type": "code",
   "execution_count": 20,
   "id": "aef4046d",
   "metadata": {},
   "outputs": [],
   "source": [
    "import torch\n",
    "from matplotlib import pyplot as plt\n",
    "from problems.problem_tsp import get_real_seq\n",
    "\n",
    "def plot_tour(rec, coordinates, dpi = 300):\n",
    "    plt.figure(figsize=(8,6))\n",
    "    plt.xticks(fontsize=12)\n",
    "    plt.yticks(fontsize=12)\n",
    "    plt.axis([-0.05, 1.05]*2)\n",
    "    # plot the nodes\n",
    "    plt.scatter(coordinates[:,0], coordinates[:,1], marker = 'H', s = 55, c = 'blue', zorder = 2)\n",
    "    # plot the tour\n",
    "    real_seq = get_real_seq(rec.unsqueeze(0))\n",
    "    real_seq_coordinates = coordinates.gather(0,real_seq[0].unsqueeze(1).repeat(1,2))\n",
    "    real_seq_coordinates = torch.cat((real_seq_coordinates, real_seq_coordinates[:1]),0)\n",
    "    plt.plot(real_seq_coordinates[:,0], real_seq_coordinates[:,1], color = 'black', zorder = 1)\n",
    "    # mark node\n",
    "    for i,txt in enumerate(range(rec.size(0))):\n",
    "        plt.annotate(txt,(coordinates[i,0]+0.01, coordinates[i,1]+0.01),)\n",
    "    \n",
    "    \n",
    "    plt.show()"
   ]
  },
  {
   "cell_type": "code",
   "execution_count": 21,
   "id": "67e97571",
   "metadata": {},
   "outputs": [
    {
     "data": {
      "image/png": "[encoded data removed]",
      "text/plain": [
       "<Figure size 576x432 with 1 Axes>"
      ]
     },
     "metadata": {
      "needs_background": "light"
     },
     "output_type": "display_data"
    },
    {
     "name": "stdout",
     "output_type": "stream",
     "text": [
      "Linked list format (rec variable):\n",
      " tensor([14, 12,  7, 15, 16,  6,  1, 11, 19,  5, 13, 18,  8, 17,  3,  2,  0,  4,\n",
      "         9, 10])\n",
      "\n",
      "Here, the linked list format means:\n",
      "edge 0-14 is in the solution\n",
      "edge 1-12 is in the solution\n",
      "edge 2-7 is in the solution\n",
      "edge 3-15 is in the solution\n",
      "edge 4-16 is in the solution\n",
      "edge 5-6 is in the solution\n",
      "edge 6-1 is in the solution\n",
      "edge 7-11 is in the solution\n",
      "edge 8-19 is in the solution\n",
      "edge 9-5 is in the solution\n",
      "edge 10-13 is in the solution\n",
      "edge 11-18 is in the solution\n",
      "edge 12-8 is in the solution\n",
      "edge 13-17 is in the solution\n",
      "edge 14-3 is in the solution\n",
      "edge 15-2 is in the solution\n",
      "edge 16-0 is in the solution\n",
      "edge 17-4 is in the solution\n",
      "edge 18-9 is in the solution\n",
      "edge 19-10 is in the solution\n",
      "\n",
      "Real solution after decoding (node visited in sequence):\n",
      " tensor([ 0, 14,  3, 15,  2,  7, 11, 18,  9,  5,  6,  1, 12,  8, 19, 10, 13, 17,\n",
      "         4, 16])\n"
     ]
    }
   ],
   "source": [
    "plot_tour(rec[0], coordinates_first)\n",
    "print('Linked list format (rec variable):\\n', rec[0])\n",
    "print('\\nHere, the linked list format means:')\n",
    "for i in range(20):\n",
    "    print(f'edge {i}-{rec[0,i]} is in the solution')\n",
    "print('\\nReal solution after decoding (node visited in sequence):\\n', get_real_seq(rec)[0])"
   ]
  },
  {
   "cell_type": "markdown",
   "id": "69e4d14a",
   "metadata": {},
   "source": [
    "### Use pre-trained DACT to solve this mini-batch\n",
    "\n",
    "The codes here are dapated from the 'agent.rollout' function defined in line 135 of file 'agent/ppo.py'"
   ]
  },
  {
   "cell_type": "code",
   "execution_count": 25,
   "id": "ecf96f3e",
   "metadata": {},
   "outputs": [
    {
     "data": {
      "application/vnd.jupyter.widget-view+json": {
       "model_id": "6945908b670f4d5785c8e0d207670604",
       "version_major": 2,
       "version_minor": 0
      },
      "text/plain": [
       "rollout:   0%|                    | 0/5000 [00:00<?, ?it/s]"
      ]
     },
     "metadata": {},
     "output_type": "display_data"
    }
   ],
   "source": [
    "# get initial cost\n",
    "obj = problem.get_costs(batch, rec)\n",
    "best_solution = rec.clone()\n",
    "\n",
    "# prepare the features\n",
    "batch_feature = problem.input_feature_encoding(batch)\n",
    "solving_state = torch.zeros((batch_feature.size(0),1), device = opts.device).long()\n",
    "action = None\n",
    "\n",
    "for t in tqdm(range(5000), disable = opts.no_progress_bar, \n",
    "              desc = 'rollout', bar_format='{l_bar}{bar:20}{r_bar}{bar:-20b}'):\n",
    "\n",
    "     # pass through model\n",
    "    action = agent.actor(problem,\n",
    "                          batch_feature,\n",
    "                          rec,\n",
    "                          action,\n",
    "                          do_sample = True)[0]\n",
    "\n",
    "    # state trasition\n",
    "    rec, rewards, obj, solving_state = problem.step(batch, \n",
    "                                                    rec, \n",
    "                                                    action, \n",
    "                                                    obj, \n",
    "                                                    solving_state, \n",
    "                                                    best_solution = best_solution)\n",
    "\n",
    "    # record informations\n",
    "    best_solution[rewards > 0] = rec[rewards > 0]\n",
    "bv = obj[:,-1].reshape(10, 1).min(1)[0]"
   ]
  },
  {
   "cell_type": "markdown",
   "id": "f1bd2766",
   "metadata": {},
   "source": [
    "### show the improved solution of the first instance"
   ]
  },
  {
   "cell_type": "code",
   "execution_count": 26,
   "id": "3b73d55c",
   "metadata": {},
   "outputs": [
    {
     "name": "stdout",
     "output_type": "stream",
     "text": [
      "best cost: tensor(3.7696)\n",
      "best rec found: tensor([10,  2,  8,  9, 13, 11, 16,  4,  6, 12, 14, 18, 17,  5,  7,  0, 15, 19,\n",
      "         3,  1])\n"
     ]
    }
   ],
   "source": [
    "print('best cost:', bv[0])\n",
    "print('best rec found:', best_solution[0])"
   ]
  },
  {
   "cell_type": "code",
   "execution_count": 27,
   "id": "6501b936",
   "metadata": {},
   "outputs": [
    {
     "data": {
      "image/png": "[encoded data removed]",
      "text/plain": [
       "<Figure size 576x432 with 1 Axes>"
      ]
     },
     "metadata": {
      "needs_background": "light"
     },
     "output_type": "display_data"
    },
    {
     "name": "stdout",
     "output_type": "stream",
     "text": [
      "Linked list format (rec variable):\n",
      " tensor([15,  2,  8, 18,  5, 11, 16, 14, 19,  3,  0,  9, 13,  4, 10,  6,  1, 12,\n",
      "         7, 17])\n",
      "\n",
      "Here, the linked list format means:\n",
      "edge 0-15 is in the solution\n",
      "edge 1-2 is in the solution\n",
      "edge 2-8 is in the solution\n",
      "edge 3-18 is in the solution\n",
      "edge 4-5 is in the solution\n",
      "edge 5-11 is in the solution\n",
      "edge 6-16 is in the solution\n",
      "edge 7-14 is in the solution\n",
      "edge 8-19 is in the solution\n",
      "edge 9-3 is in the solution\n",
      "edge 10-0 is in the solution\n",
      "edge 11-9 is in the solution\n",
      "edge 12-13 is in the solution\n",
      "edge 13-4 is in the solution\n",
      "edge 14-10 is in the solution\n",
      "edge 15-6 is in the solution\n",
      "edge 16-1 is in the solution\n",
      "edge 17-12 is in the solution\n",
      "edge 18-7 is in the solution\n",
      "edge 19-17 is in the solution\n",
      "\n",
      "Real solution after decoding (node visited in sequence):\n",
      " tensor([ 0, 15,  6, 16,  1,  2,  8, 19, 17, 12, 13,  4,  5, 11,  9,  3, 18,  7,\n",
      "        14, 10])\n"
     ]
    }
   ],
   "source": [
    "plot_tour(rec[0], coordinates_first)\n",
    "print('Linked list format (rec variable):\\n', rec[0])\n",
    "print('\\nHere, the linked list format means:')\n",
    "for i in range(20):\n",
    "    print(f'edge {i}-{rec[0,i]} is in the solution')\n",
    "print('\\nReal solution after decoding (node visited in sequence):\\n', get_real_seq(rec)[0])"
   ]
  }
 ],
 "metadata": {
  "kernelspec": {
   "display_name": "Python 3 (ipykernel)",
   "language": "python",
   "name": "python3"
  },
  "language_info": {
   "codemirror_mode": {
    "name": "ipython",
    "version": 3
   },
   "file_extension": ".py",
   "mimetype": "text/x-python",
   "name": "python",
   "nbconvert_exporter": "python",
   "pygments_lexer": "ipython3",
   "version": "3.10.4"
  }
 },
 "nbformat": 4,
 "nbformat_minor": 5
}
